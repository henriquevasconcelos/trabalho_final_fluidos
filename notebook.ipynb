{
 "cells": [
  {
   "cell_type": "markdown",
   "id": "242904a2",
   "metadata": {},
   "source": [
    "# Trabalho Final de Mecânica dos Sólidos: \n",
    "## PROJETO DE DUTOS PARA SISTEMA DE CONDICIONAMENTO DE AR\n",
    "\n",
    "**Alunos:**\n",
    "\n",
    "João Gabriel Schunk \n",
    "\n",
    "João Henrique Lima de Vasconcelos\n",
    "\n",
    "João Vitor Bordin\n",
    "\n",
    "---"
   ]
  },
  {
   "cell_type": "markdown",
   "id": "ca59fd49",
   "metadata": {},
   "source": [
    "## Introdução\n",
    "\n",
    "A resolução do problema será seccionada em uma série de submódulos como mostra o diagrama abaixo:\n",
    "\n",
    "<center><img src=\"./img/fluxograma.png\" alt=\"ias\" width=\"400\"/></center>\n",
    "\n",
    "\n",
    "### Perdas de Carga\n",
    "Começa-se pela resolução das perdas de carga em cada uma das linhas e em A. A perda de carga na linha 2-3A é igual a perda de carga na linha 2-3B assim, a perda de carga em B não é calculada.\n",
    "\n",
    "As perdas de  \n",
    "\n",
    "### Trabalho da Bomba\n",
    "Com as perdas de carga, calcula-se o trabalho da bomba \n",
    "\n",
    "###"
   ]
  },
  {
   "cell_type": "code",
   "execution_count": 1,
   "id": "13674eaa",
   "metadata": {},
   "outputs": [],
   "source": [
    "%load_ext autoreload\n",
    "%autoreload 2"
   ]
  },
  {
   "cell_type": "code",
   "execution_count": 2,
   "id": "99dc3f81",
   "metadata": {},
   "outputs": [],
   "source": [
    "import numpy as np\n",
    "import inputs as i\n",
    "import aux as aux\n",
    "from scipy.optimize import minimize\n",
    "from itertools import *\n",
    "import pandas as pd"
   ]
  },
  {
   "cell_type": "code",
   "execution_count": 3,
   "id": "fa181eae",
   "metadata": {},
   "outputs": [],
   "source": [
    "def cost_function(D_array, return_cost_dict=False):\n",
    "    h_12, v_12 = aux.head_loss_12(i.Q, D_array[0], i.L12, i.Leqcot, i.Leqvalv, i.ρ, i.µ, i.ecom, return_velocity=True)\n",
    "    \n",
    "    h_23A, v_23A = aux.head_loss_23A(i.Q, D_array[1], i.L23A, i.Leqcot, i.Leqvalv, i.ρ, i.µ, i.ecom, return_velocity=True)\n",
    "    h_A, v_A = aux.head_loss_A(i.Q, i.dA, i.LA, i.Leqcurv, i.ρ, i.µ, i.e_tref, return_velocity=True)\n",
    "    \n",
    "    h_23B, v_23B = aux.head_loss_23B(i.Q, D_array[2], i.L23B, i.Leqcot, i.Leqvalv, i.ρ, i.µ, i.ecom, return_velocity=True)\n",
    "    h_B, v_B = aux.head_loss_B(i.Q, i.dB, i.LB, i.Leqcurv, i.ρ, i.µ, i.e_tref, return_velocity=True)\n",
    "\n",
    "    h_31, v_31 = aux.head_loss_31(i.Q, D_array[3], i.L31, i.Leqcot, i.Leqvalv, i.ρ, i.µ, i.ecom, return_velocity=True)\n",
    "    \n",
    "    W_bomba = aux.calc_W_bomba(h_12, h_23A, h_A, h_31, i.ρ, i.Q)\n",
    "\n",
    "    cost = aux.calc_C_total(D_array, i.L12, i.L23A, i.L23B, i.L31, i.b, i.F, i.C2, i.t, W_bomba, i.n, i.a)\n",
    "    \n",
    "    cost_dict={\"cost\": cost,\n",
    "               \"v_12\": v_12,\n",
    "               \"v_23A\": v_23A,\n",
    "               \"v_A\": v_A,\n",
    "               \"v_23B\": v_23B,\n",
    "               \"v_B\": v_B,\n",
    "                \"v_23A\": v_31,\n",
    "               \"W_bomba\": W_bomba} \n",
    "\n",
    "    if return_cost_dict:\n",
    "        return cost_dict\n",
    "    \n",
    "    else:\n",
    "        return cost\n"
   ]
  },
  {
   "cell_type": "markdown",
   "id": "f15b863a",
   "metadata": {},
   "source": [
    "# Diametros comerciais\n",
    "A norma NBR 5590 (ASTM A-53) / A106 A / API 5L B dita quais os possíveis diâmetros comerciais a tabela a seguir referencia todos os diâmetros: https://acotubo.com.br/tabelas-site/tubos-de-aco/tubos-de-conducao-com-e-sem-costura-nbr-5590-astm-53-a106-api-5l-b.html "
   ]
  },
  {
   "cell_type": "code",
   "execution_count": 16,
   "id": "dc352618",
   "metadata": {},
   "outputs": [
    {
     "data": {
      "text/html": [
       "<div>\n",
       "<style scoped>\n",
       "    .dataframe tbody tr th:only-of-type {\n",
       "        vertical-align: middle;\n",
       "    }\n",
       "\n",
       "    .dataframe tbody tr th {\n",
       "        vertical-align: top;\n",
       "    }\n",
       "\n",
       "    .dataframe thead th {\n",
       "        text-align: right;\n",
       "    }\n",
       "</style>\n",
       "<table border=\"1\" class=\"dataframe\">\n",
       "  <thead>\n",
       "    <tr style=\"text-align: right;\">\n",
       "      <th></th>\n",
       "      <th>Diametros Comerciais</th>\n",
       "    </tr>\n",
       "  </thead>\n",
       "  <tbody>\n",
       "    <tr>\n",
       "      <th>0</th>\n",
       "      <td>0.250</td>\n",
       "    </tr>\n",
       "    <tr>\n",
       "      <th>1</th>\n",
       "      <td>0.375</td>\n",
       "    </tr>\n",
       "    <tr>\n",
       "      <th>2</th>\n",
       "      <td>0.500</td>\n",
       "    </tr>\n",
       "    <tr>\n",
       "      <th>3</th>\n",
       "      <td>0.750</td>\n",
       "    </tr>\n",
       "    <tr>\n",
       "      <th>4</th>\n",
       "      <td>1.000</td>\n",
       "    </tr>\n",
       "    <tr>\n",
       "      <th>5</th>\n",
       "      <td>1.250</td>\n",
       "    </tr>\n",
       "    <tr>\n",
       "      <th>6</th>\n",
       "      <td>1.500</td>\n",
       "    </tr>\n",
       "    <tr>\n",
       "      <th>7</th>\n",
       "      <td>2.000</td>\n",
       "    </tr>\n",
       "    <tr>\n",
       "      <th>8</th>\n",
       "      <td>2.500</td>\n",
       "    </tr>\n",
       "    <tr>\n",
       "      <th>9</th>\n",
       "      <td>3.000</td>\n",
       "    </tr>\n",
       "    <tr>\n",
       "      <th>10</th>\n",
       "      <td>3.500</td>\n",
       "    </tr>\n",
       "    <tr>\n",
       "      <th>11</th>\n",
       "      <td>4.000</td>\n",
       "    </tr>\n",
       "    <tr>\n",
       "      <th>12</th>\n",
       "      <td>5.000</td>\n",
       "    </tr>\n",
       "    <tr>\n",
       "      <th>13</th>\n",
       "      <td>6.000</td>\n",
       "    </tr>\n",
       "    <tr>\n",
       "      <th>14</th>\n",
       "      <td>8.000</td>\n",
       "    </tr>\n",
       "    <tr>\n",
       "      <th>15</th>\n",
       "      <td>10.000</td>\n",
       "    </tr>\n",
       "    <tr>\n",
       "      <th>16</th>\n",
       "      <td>12.000</td>\n",
       "    </tr>\n",
       "    <tr>\n",
       "      <th>17</th>\n",
       "      <td>14.000</td>\n",
       "    </tr>\n",
       "    <tr>\n",
       "      <th>18</th>\n",
       "      <td>16.000</td>\n",
       "    </tr>\n",
       "    <tr>\n",
       "      <th>19</th>\n",
       "      <td>18.000</td>\n",
       "    </tr>\n",
       "    <tr>\n",
       "      <th>20</th>\n",
       "      <td>20.000</td>\n",
       "    </tr>\n",
       "    <tr>\n",
       "      <th>21</th>\n",
       "      <td>22.000</td>\n",
       "    </tr>\n",
       "    <tr>\n",
       "      <th>22</th>\n",
       "      <td>24.000</td>\n",
       "    </tr>\n",
       "  </tbody>\n",
       "</table>\n",
       "</div>"
      ],
      "text/plain": [
       "    Diametros Comerciais\n",
       "0                  0.250\n",
       "1                  0.375\n",
       "2                  0.500\n",
       "3                  0.750\n",
       "4                  1.000\n",
       "5                  1.250\n",
       "6                  1.500\n",
       "7                  2.000\n",
       "8                  2.500\n",
       "9                  3.000\n",
       "10                 3.500\n",
       "11                 4.000\n",
       "12                 5.000\n",
       "13                 6.000\n",
       "14                 8.000\n",
       "15                10.000\n",
       "16                12.000\n",
       "17                14.000\n",
       "18                16.000\n",
       "19                18.000\n",
       "20                20.000\n",
       "21                22.000\n",
       "22                24.000"
      ]
     },
     "metadata": {},
     "output_type": "display_data"
    }
   ],
   "source": [
    "comercial_diameters = pd.read_excel(\"diametros_comerciais.xlsx\", skiprows = [1,2], usecols=range(1))\n",
    "comercial_diameters.dropna(subset=[\"Diâmetro\"], inplace=True)\n",
    "\n",
    "comercial_diameters = comercial_diameters.to_numpy()\n",
    "#comercial_diameters.flatten()\n",
    "possible_diameters = []\n",
    "for diameter in comercial_diameters.flatten():\n",
    "    diameter = eval(diameter.replace(\"”\", \"\").replace(\".\", \"+\"))\n",
    "    possible_diameters.append(diameter)\n",
    "\n",
    "df0 = pd.DataFrame()\n",
    "df0[\"Diametros Comerciais\"] = possible_diameters\n",
    "\n",
    "display(df0)"
   ]
  },
  {
   "cell_type": "markdown",
   "id": "3cdcdf6e",
   "metadata": {},
   "source": [
    "## Valores iniciais dos diâmetros"
   ]
  },
  {
   "cell_type": "code",
   "execution_count": 4,
   "id": "7111d3b7",
   "metadata": {},
   "outputs": [
    {
     "data": {
      "text/plain": [
       "array([1., 1., 1., 1.])"
      ]
     },
     "execution_count": 4,
     "metadata": {},
     "output_type": "execute_result"
    }
   ],
   "source": [
    "D_guess = np.zeros(4)\n",
    "D_guess[0] = 1.0 # [in]\n",
    "D_guess[1] = 1.0 # [in]\n",
    "D_guess[2] = 1.0 # [in]\n",
    "D_guess[3] = 1.0 # [in]\n",
    "D_guess"
   ]
  },
  {
   "cell_type": "code",
   "execution_count": 13,
   "id": "b1d9fb8a",
   "metadata": {},
   "outputs": [
    {
     "name": "stdout",
     "output_type": "stream",
     "text": [
      "Custo total = R$ 1405708.3554023164\n"
     ]
    }
   ],
   "source": [
    "sol = minimize(cost_function, D_guess*2.54e-2, bounds=[(0.250*2.54e-2, 24.0*2.54e-2), (0.250*2.54e-2, 24.0*2.54e-2), (0.250*2.54e-2, 24.0*2.54e-2), (0.250*2.54e-2, 24.0*2.54e-2)])\n",
    "\n",
    "print(\"Custo total = R$\", sol[\"fun\"])"
   ]
  },
  {
   "cell_type": "code",
   "execution_count": 14,
   "id": "1cfca458",
   "metadata": {},
   "outputs": [
    {
     "name": "stdout",
     "output_type": "stream",
     "text": [
      "      fun: 1405708.3554023164\n",
      " hess_inv: <4x4 LbfgsInvHessProduct with dtype=float64>\n",
      "      jac: array([ 9.47853550e+01, -2.43540853e+01,  9.74054914e+05,  8.90577212e+01])\n",
      "  message: 'CONVERGENCE: REL_REDUCTION_OF_F_<=_FACTR*EPSMCH'\n",
      "     nfev: 105\n",
      "      nit: 11\n",
      "     njev: 21\n",
      "   status: 0\n",
      "  success: True\n",
      "        x: array([0.04281124, 0.0367772 , 0.00635   , 0.04767688])\n"
     ]
    }
   ],
   "source": [
    "print(sol)"
   ]
  },
  {
   "cell_type": "code",
   "execution_count": 15,
   "id": "9cce767d",
   "metadata": {},
   "outputs": [
    {
     "data": {
      "text/plain": [
       "array([1.68548205, 1.44792138, 0.25      , 1.87704237])"
      ]
     },
     "execution_count": 15,
     "metadata": {},
     "output_type": "execute_result"
    }
   ],
   "source": [
    "ideal_diameters = sol[\"x\"]/2.54e-2\n",
    "ideal_diameters"
   ]
  },
  {
   "cell_type": "code",
   "execution_count": 17,
   "id": "574f245b",
   "metadata": {},
   "outputs": [],
   "source": [
    "all_configurations = [item for item in product(possible_diameters, repeat=len(D_guess))]\n",
    "\n",
    "all_configurations = np.array([list(elem) for elem in all_configurations])"
   ]
  },
  {
   "cell_type": "code",
   "execution_count": 18,
   "id": "eb79686c",
   "metadata": {},
   "outputs": [
    {
     "data": {
      "text/html": [
       "<div>\n",
       "<style scoped>\n",
       "    .dataframe tbody tr th:only-of-type {\n",
       "        vertical-align: middle;\n",
       "    }\n",
       "\n",
       "    .dataframe tbody tr th {\n",
       "        vertical-align: top;\n",
       "    }\n",
       "\n",
       "    .dataframe thead th {\n",
       "        text-align: right;\n",
       "    }\n",
       "</style>\n",
       "<table border=\"1\" class=\"dataframe\">\n",
       "  <thead>\n",
       "    <tr style=\"text-align: right;\">\n",
       "      <th></th>\n",
       "      <th>Diametro da Linha 1-2 [in]</th>\n",
       "      <th>Diametro da Linha 2-3A [in]</th>\n",
       "      <th>Diametro da Linha 2-3B [in]</th>\n",
       "      <th>Diametro da Linha 3-1 [in]</th>\n",
       "    </tr>\n",
       "  </thead>\n",
       "  <tbody>\n",
       "    <tr>\n",
       "      <th>0</th>\n",
       "      <td>0.25</td>\n",
       "      <td>0.25</td>\n",
       "      <td>0.25</td>\n",
       "      <td>0.250</td>\n",
       "    </tr>\n",
       "    <tr>\n",
       "      <th>1</th>\n",
       "      <td>0.25</td>\n",
       "      <td>0.25</td>\n",
       "      <td>0.25</td>\n",
       "      <td>0.375</td>\n",
       "    </tr>\n",
       "    <tr>\n",
       "      <th>2</th>\n",
       "      <td>0.25</td>\n",
       "      <td>0.25</td>\n",
       "      <td>0.25</td>\n",
       "      <td>0.500</td>\n",
       "    </tr>\n",
       "    <tr>\n",
       "      <th>3</th>\n",
       "      <td>0.25</td>\n",
       "      <td>0.25</td>\n",
       "      <td>0.25</td>\n",
       "      <td>0.750</td>\n",
       "    </tr>\n",
       "    <tr>\n",
       "      <th>4</th>\n",
       "      <td>0.25</td>\n",
       "      <td>0.25</td>\n",
       "      <td>0.25</td>\n",
       "      <td>1.000</td>\n",
       "    </tr>\n",
       "    <tr>\n",
       "      <th>...</th>\n",
       "      <td>...</td>\n",
       "      <td>...</td>\n",
       "      <td>...</td>\n",
       "      <td>...</td>\n",
       "    </tr>\n",
       "    <tr>\n",
       "      <th>279836</th>\n",
       "      <td>24.00</td>\n",
       "      <td>24.00</td>\n",
       "      <td>24.00</td>\n",
       "      <td>16.000</td>\n",
       "    </tr>\n",
       "    <tr>\n",
       "      <th>279837</th>\n",
       "      <td>24.00</td>\n",
       "      <td>24.00</td>\n",
       "      <td>24.00</td>\n",
       "      <td>18.000</td>\n",
       "    </tr>\n",
       "    <tr>\n",
       "      <th>279838</th>\n",
       "      <td>24.00</td>\n",
       "      <td>24.00</td>\n",
       "      <td>24.00</td>\n",
       "      <td>20.000</td>\n",
       "    </tr>\n",
       "    <tr>\n",
       "      <th>279839</th>\n",
       "      <td>24.00</td>\n",
       "      <td>24.00</td>\n",
       "      <td>24.00</td>\n",
       "      <td>22.000</td>\n",
       "    </tr>\n",
       "    <tr>\n",
       "      <th>279840</th>\n",
       "      <td>24.00</td>\n",
       "      <td>24.00</td>\n",
       "      <td>24.00</td>\n",
       "      <td>24.000</td>\n",
       "    </tr>\n",
       "  </tbody>\n",
       "</table>\n",
       "<p>279841 rows × 4 columns</p>\n",
       "</div>"
      ],
      "text/plain": [
       "        Diametro da Linha 1-2 [in]  Diametro da Linha 2-3A [in]  \\\n",
       "0                             0.25                         0.25   \n",
       "1                             0.25                         0.25   \n",
       "2                             0.25                         0.25   \n",
       "3                             0.25                         0.25   \n",
       "4                             0.25                         0.25   \n",
       "...                            ...                          ...   \n",
       "279836                       24.00                        24.00   \n",
       "279837                       24.00                        24.00   \n",
       "279838                       24.00                        24.00   \n",
       "279839                       24.00                        24.00   \n",
       "279840                       24.00                        24.00   \n",
       "\n",
       "        Diametro da Linha 2-3B [in]  Diametro da Linha 3-1 [in]  \n",
       "0                              0.25                       0.250  \n",
       "1                              0.25                       0.375  \n",
       "2                              0.25                       0.500  \n",
       "3                              0.25                       0.750  \n",
       "4                              0.25                       1.000  \n",
       "...                             ...                         ...  \n",
       "279836                        24.00                      16.000  \n",
       "279837                        24.00                      18.000  \n",
       "279838                        24.00                      20.000  \n",
       "279839                        24.00                      22.000  \n",
       "279840                        24.00                      24.000  \n",
       "\n",
       "[279841 rows x 4 columns]"
      ]
     },
     "metadata": {},
     "output_type": "display_data"
    }
   ],
   "source": [
    "display(pd.DataFrame(all_configurations,\n",
    "                columns=[\"Diametro da Linha 1-2 [in]\",\n",
    "                         \"Diametro da Linha 2-3A [in]\",\n",
    "                         \"Diametro da Linha 2-3B [in]\",\n",
    "                         \"Diametro da Linha 3-1 [in]\"]))"
   ]
  },
  {
   "cell_type": "code",
   "execution_count": 19,
   "id": "880012e2",
   "metadata": {},
   "outputs": [],
   "source": [
    "costs=[]\n",
    "for D_array in all_configurations:\n",
    "    cost = cost_function(2.54e-2*D_array)\n",
    "    costs.append(cost)\n",
    "costs = np.array(costs)"
   ]
  },
  {
   "cell_type": "code",
   "execution_count": 20,
   "id": "3b6391d7",
   "metadata": {},
   "outputs": [
    {
     "data": {
      "text/html": [
       "<div>\n",
       "<style scoped>\n",
       "    .dataframe tbody tr th:only-of-type {\n",
       "        vertical-align: middle;\n",
       "    }\n",
       "\n",
       "    .dataframe tbody tr th {\n",
       "        vertical-align: top;\n",
       "    }\n",
       "\n",
       "    .dataframe thead th {\n",
       "        text-align: right;\n",
       "    }\n",
       "</style>\n",
       "<table border=\"1\" class=\"dataframe\">\n",
       "  <thead>\n",
       "    <tr style=\"text-align: right;\">\n",
       "      <th></th>\n",
       "      <th>Diametro da Linha 1-2 [in]</th>\n",
       "      <th>Diametro da Linha 2-3A [in]</th>\n",
       "      <th>Diametro da Linha 2-3B [in]</th>\n",
       "      <th>Diametro da Linha 3-1 [in]</th>\n",
       "      <th>Custo total da linha [R$]</th>\n",
       "    </tr>\n",
       "    <tr>\n",
       "      <th>Iteração</th>\n",
       "      <th></th>\n",
       "      <th></th>\n",
       "      <th></th>\n",
       "      <th></th>\n",
       "      <th></th>\n",
       "    </tr>\n",
       "  </thead>\n",
       "  <tbody>\n",
       "    <tr>\n",
       "      <th>76183</th>\n",
       "      <td>1.50</td>\n",
       "      <td>1.50</td>\n",
       "      <td>0.250</td>\n",
       "      <td>2.00</td>\n",
       "      <td>1.410909e+06</td>\n",
       "    </tr>\n",
       "    <tr>\n",
       "      <th>88350</th>\n",
       "      <td>2.00</td>\n",
       "      <td>1.50</td>\n",
       "      <td>0.250</td>\n",
       "      <td>2.00</td>\n",
       "      <td>1.412848e+06</td>\n",
       "    </tr>\n",
       "    <tr>\n",
       "      <th>76206</th>\n",
       "      <td>1.50</td>\n",
       "      <td>1.50</td>\n",
       "      <td>0.375</td>\n",
       "      <td>2.00</td>\n",
       "      <td>1.414002e+06</td>\n",
       "    </tr>\n",
       "    <tr>\n",
       "      <th>88373</th>\n",
       "      <td>2.00</td>\n",
       "      <td>1.50</td>\n",
       "      <td>0.375</td>\n",
       "      <td>2.00</td>\n",
       "      <td>1.415941e+06</td>\n",
       "    </tr>\n",
       "    <tr>\n",
       "      <th>76229</th>\n",
       "      <td>1.50</td>\n",
       "      <td>1.50</td>\n",
       "      <td>0.500</td>\n",
       "      <td>2.00</td>\n",
       "      <td>1.417094e+06</td>\n",
       "    </tr>\n",
       "    <tr>\n",
       "      <th>...</th>\n",
       "      <td>...</td>\n",
       "      <td>...</td>\n",
       "      <td>...</td>\n",
       "      <td>...</td>\n",
       "      <td>...</td>\n",
       "    </tr>\n",
       "    <tr>\n",
       "      <th>414</th>\n",
       "      <td>0.25</td>\n",
       "      <td>0.25</td>\n",
       "      <td>16.000</td>\n",
       "      <td>0.25</td>\n",
       "      <td>7.530679e+08</td>\n",
       "    </tr>\n",
       "    <tr>\n",
       "      <th>437</th>\n",
       "      <td>0.25</td>\n",
       "      <td>0.25</td>\n",
       "      <td>18.000</td>\n",
       "      <td>0.25</td>\n",
       "      <td>7.531174e+08</td>\n",
       "    </tr>\n",
       "    <tr>\n",
       "      <th>460</th>\n",
       "      <td>0.25</td>\n",
       "      <td>0.25</td>\n",
       "      <td>20.000</td>\n",
       "      <td>0.25</td>\n",
       "      <td>7.531669e+08</td>\n",
       "    </tr>\n",
       "    <tr>\n",
       "      <th>483</th>\n",
       "      <td>0.25</td>\n",
       "      <td>0.25</td>\n",
       "      <td>22.000</td>\n",
       "      <td>0.25</td>\n",
       "      <td>7.532164e+08</td>\n",
       "    </tr>\n",
       "    <tr>\n",
       "      <th>506</th>\n",
       "      <td>0.25</td>\n",
       "      <td>0.25</td>\n",
       "      <td>24.000</td>\n",
       "      <td>0.25</td>\n",
       "      <td>7.532659e+08</td>\n",
       "    </tr>\n",
       "  </tbody>\n",
       "</table>\n",
       "<p>279841 rows × 5 columns</p>\n",
       "</div>"
      ],
      "text/plain": [
       "          Diametro da Linha 1-2 [in]  Diametro da Linha 2-3A [in]  \\\n",
       "Iteração                                                            \n",
       "76183                           1.50                         1.50   \n",
       "88350                           2.00                         1.50   \n",
       "76206                           1.50                         1.50   \n",
       "88373                           2.00                         1.50   \n",
       "76229                           1.50                         1.50   \n",
       "...                              ...                          ...   \n",
       "414                             0.25                         0.25   \n",
       "437                             0.25                         0.25   \n",
       "460                             0.25                         0.25   \n",
       "483                             0.25                         0.25   \n",
       "506                             0.25                         0.25   \n",
       "\n",
       "          Diametro da Linha 2-3B [in]  Diametro da Linha 3-1 [in]  \\\n",
       "Iteração                                                            \n",
       "76183                           0.250                        2.00   \n",
       "88350                           0.250                        2.00   \n",
       "76206                           0.375                        2.00   \n",
       "88373                           0.375                        2.00   \n",
       "76229                           0.500                        2.00   \n",
       "...                               ...                         ...   \n",
       "414                            16.000                        0.25   \n",
       "437                            18.000                        0.25   \n",
       "460                            20.000                        0.25   \n",
       "483                            22.000                        0.25   \n",
       "506                            24.000                        0.25   \n",
       "\n",
       "          Custo total da linha [R$]  \n",
       "Iteração                             \n",
       "76183                  1.410909e+06  \n",
       "88350                  1.412848e+06  \n",
       "76206                  1.414002e+06  \n",
       "88373                  1.415941e+06  \n",
       "76229                  1.417094e+06  \n",
       "...                             ...  \n",
       "414                    7.530679e+08  \n",
       "437                    7.531174e+08  \n",
       "460                    7.531669e+08  \n",
       "483                    7.532164e+08  \n",
       "506                    7.532659e+08  \n",
       "\n",
       "[279841 rows x 5 columns]"
      ]
     },
     "metadata": {},
     "output_type": "display_data"
    }
   ],
   "source": [
    "df = pd.DataFrame(all_configurations,\n",
    "                columns=[\"Diametro da Linha 1-2 [in]\",\n",
    "                         \"Diametro da Linha 2-3A [in]\",\n",
    "                         \"Diametro da Linha 2-3B [in]\",\n",
    "                         \"Diametro da Linha 3-1 [in]\"])\n",
    "df[\"Custo total da linha [R$]\"] = costs\n",
    "df.index.name = \"Iteração\"\n",
    "\n",
    "result = df.sort_values(\"Custo total da linha [R$]\", ascending=True)\n",
    "\n",
    "display(result)"
   ]
  },
  {
   "cell_type": "code",
   "execution_count": 21,
   "id": "5a0296b6",
   "metadata": {},
   "outputs": [
    {
     "data": {
      "text/plain": [
       "array([1.5 , 1.5 , 0.25, 2.  ])"
      ]
     },
     "execution_count": 21,
     "metadata": {},
     "output_type": "execute_result"
    }
   ],
   "source": [
    "comercial_diameters = result.iloc[0][0:-1].to_numpy()*2.54e-2\n",
    "\n",
    "comercial_diameters/2.54e-2"
   ]
  },
  {
   "cell_type": "code",
   "execution_count": 22,
   "id": "3d0b7ca6",
   "metadata": {},
   "outputs": [
    {
     "data": {
      "text/plain": [
       "array([1.68548205, 1.44792138, 0.25      , 1.87704237])"
      ]
     },
     "execution_count": 22,
     "metadata": {},
     "output_type": "execute_result"
    }
   ],
   "source": [
    "ideal_diameters"
   ]
  },
  {
   "cell_type": "code",
   "execution_count": 23,
   "id": "b3420f44",
   "metadata": {},
   "outputs": [
    {
     "data": {
      "text/plain": [
       "{'cost': 11649210.307905326,\n",
       " 'h_12': 1.1946873942854095e-05,\n",
       " 'v_12': 0.001244971346017479,\n",
       " 'h_23A': 1.6342838983039245e-05,\n",
       " 'v_23A': 0.0010038283680461335,\n",
       " 'h_A': 4098.118273613894,\n",
       " 'v_A': 13.156834942599902,\n",
       " 'h_23B': 0.004329505087378093,\n",
       " 'v_23B': 0.02263536968418067,\n",
       " 'h_B': 1966.0597265924307,\n",
       " 'v_B': 8.771223295066601,\n",
       " 'h_31': 2.663338671985112e-05,\n",
       " 'W_bomba': 11383.66202371387}"
      ]
     },
     "execution_count": 23,
     "metadata": {},
     "output_type": "execute_result"
    }
   ],
   "source": [
    "cost_function(ideal_diameters, return_cost_dict=True)"
   ]
  },
  {
   "cell_type": "code",
   "execution_count": 31,
   "id": "f9131821",
   "metadata": {},
   "outputs": [
    {
     "data": {
      "text/plain": [
       "{'cost': 1410909.0619030888,\n",
       " 'h_12': 111.1541886991869,\n",
       " 'v_12': 2.4364509152962786,\n",
       " 'h_23A': 55.88946801177149,\n",
       " 'v_23A': 1.3705036398541564,\n",
       " 'h_A': 4098.118273613894,\n",
       " 'v_A': 13.156834942599902,\n",
       " 'h_23B': 90444.70639537666,\n",
       " 'v_23B': 35.084893180266405,\n",
       " 'h_B': 1966.0597265924307,\n",
       " 'v_B': 8.771223295066601,\n",
       " 'h_31': 58.75812743620264,\n",
       " 'W_bomba': 12010.889049336265}"
      ]
     },
     "execution_count": 31,
     "metadata": {},
     "output_type": "execute_result"
    }
   ],
   "source": [
    "comercial_cost_dict = cost_function(comercial_diameters, return_cost_dict=True)\n",
    "comercial_cost_dict\n"
   ]
  },
  {
   "cell_type": "code",
   "execution_count": 32,
   "id": "3b542d50",
   "metadata": {},
   "outputs": [
    {
     "data": {
      "text/plain": [
       "88256.75838034342"
      ]
     },
     "execution_count": 32,
     "metadata": {},
     "output_type": "execute_result"
    }
   ],
   "source": [
    "np.abs((comercial_cost_dict[\"h_23A\"] + comercial_cost_dict[\"h_A\"]) -1*(comercial_cost_dict[\"h_23B\"] + comercial_cost_dict[\"h_B\"]))"
   ]
  },
  {
   "cell_type": "code",
   "execution_count": 26,
   "id": "b4d9b4f5",
   "metadata": {},
   "outputs": [],
   "source": [
    "ideal_cost_dict = cost_function(ideal_diameters, return_cost_dict=True)\n",
    "comercial_cost_dict = cost_function(comercial_diameters, return_cost_dict=True)"
   ]
  },
  {
   "cell_type": "code",
   "execution_count": 27,
   "id": "37cff721",
   "metadata": {},
   "outputs": [],
   "source": [
    "h_12, v12 = aux.head_loss_12(i.Q, comercial_diameters[0], i.L12, i.Leqcot, i.Leqvalv, i.ρ, i.µ, i.ecom, return_velocity=True)\n",
    "h_23A, v23A = aux.head_loss_23A(i.Q, comercial_diameters[1], i.L23A, i.Leqcot, i.Leqvalv, i.ρ, i.µ, i.ecom, return_velocity=True)\n",
    "h_23B, v23B = aux.head_loss_23B(i.Q, comercial_diameters[2], i.L23B, i.Leqcot, i.Leqvalv, i.ρ, i.µ, i.ecom, return_velocity=True)\n",
    "\n",
    "h_31, v31 = aux.head_loss_31(i.Q, comercial_diameters[3], i.L31, i.Leqcot, i.Leqvalv, i.ρ, i.µ, i.ecom, return_velocity=True)"
   ]
  },
  {
   "cell_type": "code",
   "execution_count": 28,
   "id": "59bff7cd",
   "metadata": {},
   "outputs": [
    {
     "name": "stdout",
     "output_type": "stream",
     "text": [
      "VA =  1.461870549177767\n",
      "V31 =  1.3705036398541564\n"
     ]
    }
   ],
   "source": [
    "print(\"VA = \", v23A)\n",
    "print(\"V31 = \", v31)"
   ]
  },
  {
   "cell_type": "code",
   "execution_count": 29,
   "id": "5e12b4eb",
   "metadata": {},
   "outputs": [],
   "source": [
    "Q_A = v23A*(np.pi*(comercial_diameters[1]**2))/4\n",
    "Q_B = v23B*(np.pi*(comercial_diameters[2]**2))/4\n",
    "\n",
    "Q_12 = v12*(np.pi*(comercial_diameters[0]**2))/4\n",
    "\n"
   ]
  },
  {
   "cell_type": "code",
   "execution_count": 30,
   "id": "e7cc4ff3",
   "metadata": {},
   "outputs": [
    {
     "name": "stdout",
     "output_type": "stream",
     "text": [
      "0.0016666666666666668 0.0027777777777777783 0.0011111111111111111\n"
     ]
    }
   ],
   "source": [
    "print(Q_A, Q_12, Q_B)"
   ]
  }
 ],
 "metadata": {
  "kernelspec": {
   "display_name": "Python 3 (ipykernel)",
   "language": "python",
   "name": "python3"
  },
  "language_info": {
   "codemirror_mode": {
    "name": "ipython",
    "version": 3
   },
   "file_extension": ".py",
   "mimetype": "text/x-python",
   "name": "python",
   "nbconvert_exporter": "python",
   "pygments_lexer": "ipython3",
   "version": "3.9.6"
  }
 },
 "nbformat": 4,
 "nbformat_minor": 5
}
